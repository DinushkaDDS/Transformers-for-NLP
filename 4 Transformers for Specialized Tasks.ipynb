{
 "cells": [
  {
   "cell_type": "markdown",
   "metadata": {},
   "source": [
    "# Transformers for Downstream tasks.\n",
    "\n",
    "Transformer's real usages come when we are using them for a more specialized tasks rather than guessing the \\<mask> or next sentence (though this is still very useful). In this notebook we will work on how we can use transformers in several specialized NLP tasks. Also we will look upon performance measuring of transformers in such usecases.\n",
    "\n",
    "Since now we are moving into the applications of Transformers, it is best to first look at various evaluation mechanisms used in NLP tasks. Below are some performance metrics used by the `General Language Understanding Evaluation (GLUE)` and `SuperGLUE` benchmarks for NLP.\n",
    "\n",
    "#### **Accuracy Score**\n",
    "\n",
    "Accuracy is one of the simplest form of evaluation. It simply calculates how many predictions are correct out of all the available examples.\n",
    "\n",
    "#### **F1 Score**\n",
    "\n",
    "Another metric which helps in specially uneven data distribution evaluations. \n",
    "\n",
    "                F1-score= 2 * (precision * recall)/(precision + recall)\n",
    "\n",
    "#### **Matthews Correlation Coefficient (MCC)**\n",
    "\n",
    "We used this already in our RoBERTa model evaluation as well. This computes a measurement based on true positives, false positives, true negatives and false negatives. Its more useful compared to both accuracy and F1 scores even when the class distritions are different.\n",
    "\n"
   ]
  },
  {
   "cell_type": "code",
   "execution_count": null,
   "metadata": {},
   "outputs": [],
   "source": []
  },
  {
   "cell_type": "code",
   "execution_count": null,
   "metadata": {},
   "outputs": [],
   "source": []
  },
  {
   "cell_type": "code",
   "execution_count": null,
   "metadata": {},
   "outputs": [],
   "source": []
  },
  {
   "cell_type": "code",
   "execution_count": null,
   "metadata": {},
   "outputs": [],
   "source": []
  },
  {
   "cell_type": "code",
   "execution_count": null,
   "metadata": {},
   "outputs": [],
   "source": []
  },
  {
   "cell_type": "code",
   "execution_count": null,
   "metadata": {},
   "outputs": [],
   "source": []
  }
 ],
 "metadata": {
  "kernelspec": {
   "display_name": "Python 3.9.7 ('Pytorch_-_Use_Case_Exploration-FSDBtUdB')",
   "language": "python",
   "name": "python3"
  },
  "language_info": {
   "name": "python",
   "version": "3.9.7"
  },
  "orig_nbformat": 4,
  "vscode": {
   "interpreter": {
    "hash": "1153c933a691d5b7872e50b0da6113c7d23c17547b77ca34e6f51a7318bb0ae8"
   }
  }
 },
 "nbformat": 4,
 "nbformat_minor": 2
}
