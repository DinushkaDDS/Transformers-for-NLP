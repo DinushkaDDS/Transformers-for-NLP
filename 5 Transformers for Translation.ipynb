{
 "cells": [
  {
   "cell_type": "markdown",
   "metadata": {},
   "source": [
    "# Machine Translation using Transformers\n",
    "\n",
    "Language translation is one of the most important task in NLP world. As people get connected with each other, language translation helps them to understand each other better. \n",
    "\n",
    "Machine translation can formally be identified as the process of reproducing human translation using machine transductions(Transduction means taking structures we perceive and representing them with another form).\n",
    "\n",
    "And in real life, this is a complicated task due to many reasons. For example lets say there's a sentence A which is written in some language. Then we are required to translate this sentence in to another language. A human translator comes and translate the sentence A to give an translated output. But would another human translator give a same translation to the sentence A? This is probably not! But the problem is that both translated sentences would have same meaning. So when we try to build a model to do translation, our model should be able to understand/perform the same.\n",
    "\n",
    "To see how such task is achieved we will look at a task of tranlating French/English. We will be using the WMT(Workshop of Machine Translation) dataset provided in [this url](https://www.statmt.org/europarl/v7/fr-en.tgz).\n"
   ]
  },
  {
   "cell_type": "code",
   "execution_count": null,
   "metadata": {},
   "outputs": [],
   "source": []
  },
  {
   "cell_type": "code",
   "execution_count": null,
   "metadata": {},
   "outputs": [],
   "source": []
  },
  {
   "cell_type": "code",
   "execution_count": null,
   "metadata": {},
   "outputs": [],
   "source": []
  },
  {
   "cell_type": "code",
   "execution_count": null,
   "metadata": {},
   "outputs": [],
   "source": []
  },
  {
   "cell_type": "code",
   "execution_count": null,
   "metadata": {},
   "outputs": [],
   "source": []
  }
 ],
 "metadata": {
  "kernelspec": {
   "display_name": "Python 3.9.7 ('Pytorch_-_Use_Case_Exploration-FSDBtUdB')",
   "language": "python",
   "name": "python3"
  },
  "language_info": {
   "name": "python",
   "version": "3.9.7"
  },
  "orig_nbformat": 4,
  "vscode": {
   "interpreter": {
    "hash": "1153c933a691d5b7872e50b0da6113c7d23c17547b77ca34e6f51a7318bb0ae8"
   }
  }
 },
 "nbformat": 4,
 "nbformat_minor": 2
}
